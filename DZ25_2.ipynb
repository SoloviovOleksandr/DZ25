{
 "cells": [
  {
   "cell_type": "code",
   "execution_count": 1,
   "id": "99af0fd1",
   "metadata": {},
   "outputs": [
    {
     "ename": "SyntaxError",
     "evalue": "cannot assign to function call (1309493713.py, line 1)",
     "output_type": "error",
     "traceback": [
      "\u001b[1;36m  File \u001b[1;32m\"C:\\Users\\solov\\AppData\\Local\\Temp\\ipykernel_1536\\1309493713.py\"\u001b[1;36m, line \u001b[1;32m1\u001b[0m\n\u001b[1;33m    M(x) = 10*0.1 + 5*0.3 + 2*0.2 +1*0.3 +(-5)*0.1 = 2.699\u001b[0m\n\u001b[1;37m    ^\u001b[0m\n\u001b[1;31mSyntaxError\u001b[0m\u001b[1;31m:\u001b[0m cannot assign to function call\n"
     ]
    }
   ],
   "source": [
    "M(x) = 10*0.1 + 5*0.3 + 2*0.2 +1*0.3 +(-5)*0.1 = 2.699\n",
    "M(y) = 20*0.1 + 10*0.3 + 2*0.2 + (-2)*0.3 + (-8)*0.1 = 4\n",
    "M(x²) = 21.1\n",
    "M(y²) = 78.4\n",
    "D(x)= 21.1 - 7.23 = 13.87\n",
    "D(y) = 78.4 - 16 = 62.4\n",
    "б(x) = 3.72\n",
    "б(y) = 7.89\n",
    "M(XY) = 10.8\n",
    "K(xy)= 10.8 -2.64 * 4 = 0.08\n",
    "r(xy)= 0.08/3.72 * 7.89 = 0.001"
   ]
  },
  {
   "cell_type": "code",
   "execution_count": 2,
   "id": "6a59c26b",
   "metadata": {},
   "outputs": [
    {
     "name": "stdout",
     "output_type": "stream",
     "text": [
      "10.8\n"
     ]
    }
   ],
   "source": [
    "m_X_y = 10 * (20 * 0.01 + 10 * 0.03 + 2 * 0.02 + (-2) * 0.03 + (-8) * 0.01) + 5 * (20 * 0.03 + 10 * 0.09 + 2 * 0.06 + (-2) * 0.09 + (-8) * 0.03) + 2 * (20 * 0.02 + 10 * 0.06 + 2* 0.04 + (-2) * 0.06 + (-8) * 0.02) + 1 * (20 * 0.03 + 10 * 0.09 + 2 * 0.06 + (-2) * 0.09 + (-8) * 0.03) + (-5) * (20 * 0.01 + 10 * 0.03  + 2 * 0.02 + (-2) * 0.03 + (-8) * 0.01)\n",
    "print(m_X_y)"
   ]
  },
  {
   "cell_type": "code",
   "execution_count": 3,
   "id": "a74f2935",
   "metadata": {},
   "outputs": [
    {
     "name": "stdout",
     "output_type": "stream",
     "text": [
      "21.1\n",
      "78.4\n",
      "3.7242448899072143\n",
      "7.899367063252599\n"
     ]
    }
   ],
   "source": [
    "m_x = 10**2 * 0.1 + 5**2 * 0.3 + 2**2 * 0.2 + 1**2 * 0.3 + (-5)**2 * 0.1\n",
    "print(m_x)\n",
    "m_y = 20**2 * 0.1 + 10**2 * 0.3 + 2**2 * 0.2 + (-2)**2 * 0.3 + (-8)**2 * 0.1\n",
    "print(m_y)\n",
    "x_sqr = 13.87**0.5\n",
    "print(x_sqr)\n",
    "y_sqr = 62.4**0.5\n",
    "print(y_sqr)"
   ]
  },
  {
   "cell_type": "code",
   "execution_count": null,
   "id": "e7975d09",
   "metadata": {},
   "outputs": [],
   "source": []
  }
 ],
 "metadata": {
  "kernelspec": {
   "display_name": "Python 3 (ipykernel)",
   "language": "python",
   "name": "python3"
  },
  "language_info": {
   "codemirror_mode": {
    "name": "ipython",
    "version": 3
   },
   "file_extension": ".py",
   "mimetype": "text/x-python",
   "name": "python",
   "nbconvert_exporter": "python",
   "pygments_lexer": "ipython3",
   "version": "3.9.13"
  }
 },
 "nbformat": 4,
 "nbformat_minor": 5
}
