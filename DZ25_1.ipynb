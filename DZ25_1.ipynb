{
 "cells": [
  {
   "cell_type": "code",
   "execution_count": 5,
   "id": "f155ba7a",
   "metadata": {},
   "outputs": [
    {
     "ename": "SyntaxError",
     "evalue": "cannot assign to function call (689421305.py, line 1)",
     "output_type": "error",
     "traceback": [
      "\u001b[1;36m  File \u001b[1;32m\"C:\\Users\\solov\\AppData\\Local\\Temp\\ipykernel_8608\\689421305.py\"\u001b[1;36m, line \u001b[1;32m1\u001b[0m\n\u001b[1;33m    M(x) = 0 * 0.064 + 1 * 0.288 + 2 * 0.432 + 3 * 0.216 = 1.79\u001b[0m\n\u001b[1;37m    ^\u001b[0m\n\u001b[1;31mSyntaxError\u001b[0m\u001b[1;31m:\u001b[0m cannot assign to function call\n"
     ]
    }
   ],
   "source": [
    "M(x) = 0 * 0.064 + 1 * 0.288 + 2 * 0.432 + 3 * 0.216 = 1.79\n",
    "M(y) = 0*216 +1*0.432 + 2 * 0.288 + 3*0.064 = 1.2\n",
    "D(x) = M(x²) - M²(x) = 3.96 - 3.2 = 0.76 = 0.87²\n",
    "D(y) = M(y²) - M²(y) = 2.16 - 1.2²= 0.72 = 0.84²\n",
    "r(xy) = -0.7/ (0.87*0.84) = -0.95"
   ]
  },
  {
   "cell_type": "code",
   "execution_count": 2,
   "id": "9b30be6a",
   "metadata": {},
   "outputs": [
    {
     "name": "stdout",
     "output_type": "stream",
     "text": [
      "1.7999999999999998\n",
      "3.96\n"
     ]
    }
   ],
   "source": [
    "m_x = 0 * 0.064 + 1 * 0.288 + 2 * 0.432 + 3 * 0.216\n",
    "print(m_x)\n",
    "m_x_2 = 0 * 0.064 + 1 * 0.288 + 2**2 * 0.432 + 3**2 * 0.216\n",
    "print(m_x_2)"
   ]
  },
  {
   "cell_type": "code",
   "execution_count": 3,
   "id": "75f73492",
   "metadata": {},
   "outputs": [
    {
     "name": "stdout",
     "output_type": "stream",
     "text": [
      "1.2\n",
      "2.16\n"
     ]
    }
   ],
   "source": [
    "m_y = 0 * 0.216 + 1 * 0.432 + 2 * 0.288 + 3 * 0.064\n",
    "print(m_y)\n",
    "m_y_2 = 0 * 0.216 + 1 * 0.432 + 2**2 * 0.288 + 3**2 * 0.064\n",
    "print(m_y_2)"
   ]
  },
  {
   "cell_type": "code",
   "execution_count": 4,
   "id": "c8144c07",
   "metadata": {},
   "outputs": [
    {
     "name": "stdout",
     "output_type": "stream",
     "text": [
      "-0.7080000000000002\n"
     ]
    }
   ],
   "source": [
    "cov_x_y = (1*(2*0.288 ) + 2*(1*0.432)) - 1.2 * 1.79\n",
    "print(cov_x_y)"
   ]
  },
  {
   "cell_type": "code",
   "execution_count": null,
   "id": "1afff876",
   "metadata": {},
   "outputs": [],
   "source": []
  }
 ],
 "metadata": {
  "kernelspec": {
   "display_name": "Python 3 (ipykernel)",
   "language": "python",
   "name": "python3"
  },
  "language_info": {
   "codemirror_mode": {
    "name": "ipython",
    "version": 3
   },
   "file_extension": ".py",
   "mimetype": "text/x-python",
   "name": "python",
   "nbconvert_exporter": "python",
   "pygments_lexer": "ipython3",
   "version": "3.9.13"
  }
 },
 "nbformat": 4,
 "nbformat_minor": 5
}
